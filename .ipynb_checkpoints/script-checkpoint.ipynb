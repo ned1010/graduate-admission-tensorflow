{
 "cells": [
  {
   "cell_type": "markdown",
   "id": "a2754368",
   "metadata": {},
   "source": [
    "# Graduate Admission Prediction"
   ]
  },
  {
   "cell_type": "code",
   "execution_count": 2,
   "id": "a3bc5ba8",
   "metadata": {},
   "outputs": [],
   "source": [
    "#import all the necessary modules or libraries \n",
    "import pandas as pd\n",
    "import numpy as np\n",
    "import matplotlib.pyplot as plt\n",
    "\n",
    "import tensorflow as tf\n",
    "from tensorflow import keras\n",
    "from tensorflow.keras.models import Sequential\n",
    "from tensorflow.keras.callbacks import EarlyStopping\n",
    "from tensorflow.keras import layers\n",
    "\n",
    "from sklearn.compose import ColumnTransformer\n",
    "from sklearn.model_selection import train_test_split\n",
    "from sklearn.preprocessing import StandardScaler\n",
    "from sklearn.preprocessing import Normalizer\n",
    "from sklearn.metrics import r2_score"
   ]
  },
  {
   "cell_type": "code",
   "execution_count": 3,
   "id": "9ec3f1c8",
   "metadata": {},
   "outputs": [],
   "source": [
    "dataset = pd.read_csv(\"admissions_data.csv\");"
   ]
  },
  {
   "cell_type": "code",
   "execution_count": 4,
   "id": "596b7517",
   "metadata": {},
   "outputs": [
    {
     "data": {
      "text/html": [
       "<div>\n",
       "<style scoped>\n",
       "    .dataframe tbody tr th:only-of-type {\n",
       "        vertical-align: middle;\n",
       "    }\n",
       "\n",
       "    .dataframe tbody tr th {\n",
       "        vertical-align: top;\n",
       "    }\n",
       "\n",
       "    .dataframe thead th {\n",
       "        text-align: right;\n",
       "    }\n",
       "</style>\n",
       "<table border=\"1\" class=\"dataframe\">\n",
       "  <thead>\n",
       "    <tr style=\"text-align: right;\">\n",
       "      <th></th>\n",
       "      <th>Serial No.</th>\n",
       "      <th>GRE Score</th>\n",
       "      <th>TOEFL Score</th>\n",
       "      <th>University Rating</th>\n",
       "      <th>SOP</th>\n",
       "      <th>LOR</th>\n",
       "      <th>CGPA</th>\n",
       "      <th>Research</th>\n",
       "      <th>Chance of Admit</th>\n",
       "    </tr>\n",
       "  </thead>\n",
       "  <tbody>\n",
       "    <tr>\n",
       "      <th>0</th>\n",
       "      <td>1</td>\n",
       "      <td>337</td>\n",
       "      <td>118</td>\n",
       "      <td>4</td>\n",
       "      <td>4.5</td>\n",
       "      <td>4.5</td>\n",
       "      <td>9.65</td>\n",
       "      <td>1</td>\n",
       "      <td>0.92</td>\n",
       "    </tr>\n",
       "    <tr>\n",
       "      <th>1</th>\n",
       "      <td>2</td>\n",
       "      <td>324</td>\n",
       "      <td>107</td>\n",
       "      <td>4</td>\n",
       "      <td>4.0</td>\n",
       "      <td>4.5</td>\n",
       "      <td>8.87</td>\n",
       "      <td>1</td>\n",
       "      <td>0.76</td>\n",
       "    </tr>\n",
       "    <tr>\n",
       "      <th>2</th>\n",
       "      <td>3</td>\n",
       "      <td>316</td>\n",
       "      <td>104</td>\n",
       "      <td>3</td>\n",
       "      <td>3.0</td>\n",
       "      <td>3.5</td>\n",
       "      <td>8.00</td>\n",
       "      <td>1</td>\n",
       "      <td>0.72</td>\n",
       "    </tr>\n",
       "    <tr>\n",
       "      <th>3</th>\n",
       "      <td>4</td>\n",
       "      <td>322</td>\n",
       "      <td>110</td>\n",
       "      <td>3</td>\n",
       "      <td>3.5</td>\n",
       "      <td>2.5</td>\n",
       "      <td>8.67</td>\n",
       "      <td>1</td>\n",
       "      <td>0.80</td>\n",
       "    </tr>\n",
       "    <tr>\n",
       "      <th>4</th>\n",
       "      <td>5</td>\n",
       "      <td>314</td>\n",
       "      <td>103</td>\n",
       "      <td>2</td>\n",
       "      <td>2.0</td>\n",
       "      <td>3.0</td>\n",
       "      <td>8.21</td>\n",
       "      <td>0</td>\n",
       "      <td>0.65</td>\n",
       "    </tr>\n",
       "    <tr>\n",
       "      <th>5</th>\n",
       "      <td>6</td>\n",
       "      <td>330</td>\n",
       "      <td>115</td>\n",
       "      <td>5</td>\n",
       "      <td>4.5</td>\n",
       "      <td>3.0</td>\n",
       "      <td>9.34</td>\n",
       "      <td>1</td>\n",
       "      <td>0.90</td>\n",
       "    </tr>\n",
       "    <tr>\n",
       "      <th>6</th>\n",
       "      <td>7</td>\n",
       "      <td>321</td>\n",
       "      <td>109</td>\n",
       "      <td>3</td>\n",
       "      <td>3.0</td>\n",
       "      <td>4.0</td>\n",
       "      <td>8.20</td>\n",
       "      <td>1</td>\n",
       "      <td>0.75</td>\n",
       "    </tr>\n",
       "    <tr>\n",
       "      <th>7</th>\n",
       "      <td>8</td>\n",
       "      <td>308</td>\n",
       "      <td>101</td>\n",
       "      <td>2</td>\n",
       "      <td>3.0</td>\n",
       "      <td>4.0</td>\n",
       "      <td>7.90</td>\n",
       "      <td>0</td>\n",
       "      <td>0.68</td>\n",
       "    </tr>\n",
       "    <tr>\n",
       "      <th>8</th>\n",
       "      <td>9</td>\n",
       "      <td>302</td>\n",
       "      <td>102</td>\n",
       "      <td>1</td>\n",
       "      <td>2.0</td>\n",
       "      <td>1.5</td>\n",
       "      <td>8.00</td>\n",
       "      <td>0</td>\n",
       "      <td>0.50</td>\n",
       "    </tr>\n",
       "    <tr>\n",
       "      <th>9</th>\n",
       "      <td>10</td>\n",
       "      <td>323</td>\n",
       "      <td>108</td>\n",
       "      <td>3</td>\n",
       "      <td>3.5</td>\n",
       "      <td>3.0</td>\n",
       "      <td>8.60</td>\n",
       "      <td>0</td>\n",
       "      <td>0.45</td>\n",
       "    </tr>\n",
       "  </tbody>\n",
       "</table>\n",
       "</div>"
      ],
      "text/plain": [
       "   Serial No.  GRE Score  TOEFL Score  University Rating  SOP  LOR   CGPA  \\\n",
       "0           1        337          118                  4  4.5   4.5  9.65   \n",
       "1           2        324          107                  4  4.0   4.5  8.87   \n",
       "2           3        316          104                  3  3.0   3.5  8.00   \n",
       "3           4        322          110                  3  3.5   2.5  8.67   \n",
       "4           5        314          103                  2  2.0   3.0  8.21   \n",
       "5           6        330          115                  5  4.5   3.0  9.34   \n",
       "6           7        321          109                  3  3.0   4.0  8.20   \n",
       "7           8        308          101                  2  3.0   4.0  7.90   \n",
       "8           9        302          102                  1  2.0   1.5  8.00   \n",
       "9          10        323          108                  3  3.5   3.0  8.60   \n",
       "\n",
       "   Research  Chance of Admit   \n",
       "0         1              0.92  \n",
       "1         1              0.76  \n",
       "2         1              0.72  \n",
       "3         1              0.80  \n",
       "4         0              0.65  \n",
       "5         1              0.90  \n",
       "6         1              0.75  \n",
       "7         0              0.68  \n",
       "8         0              0.50  \n",
       "9         0              0.45  "
      ]
     },
     "execution_count": 4,
     "metadata": {},
     "output_type": "execute_result"
    }
   ],
   "source": [
    "#dataset contains 500 samples\n",
    "#chance of admit is the label\n",
    "dataset.describe()\n",
    "dataset.shape\n",
    "dataset.head(10)"
   ]
  },
  {
   "cell_type": "code",
   "execution_count": 5,
   "id": "316e719b",
   "metadata": {},
   "outputs": [
    {
     "data": {
      "text/html": [
       "<div>\n",
       "<style scoped>\n",
       "    .dataframe tbody tr th:only-of-type {\n",
       "        vertical-align: middle;\n",
       "    }\n",
       "\n",
       "    .dataframe tbody tr th {\n",
       "        vertical-align: top;\n",
       "    }\n",
       "\n",
       "    .dataframe thead th {\n",
       "        text-align: right;\n",
       "    }\n",
       "</style>\n",
       "<table border=\"1\" class=\"dataframe\">\n",
       "  <thead>\n",
       "    <tr style=\"text-align: right;\">\n",
       "      <th></th>\n",
       "      <th>GRE Score</th>\n",
       "      <th>TOEFL Score</th>\n",
       "      <th>University Rating</th>\n",
       "      <th>SOP</th>\n",
       "      <th>LOR</th>\n",
       "      <th>CGPA</th>\n",
       "      <th>Research</th>\n",
       "      <th>Chance of Admit</th>\n",
       "    </tr>\n",
       "  </thead>\n",
       "  <tbody>\n",
       "    <tr>\n",
       "      <th>0</th>\n",
       "      <td>337</td>\n",
       "      <td>118</td>\n",
       "      <td>4</td>\n",
       "      <td>4.5</td>\n",
       "      <td>4.5</td>\n",
       "      <td>9.65</td>\n",
       "      <td>1</td>\n",
       "      <td>0.92</td>\n",
       "    </tr>\n",
       "    <tr>\n",
       "      <th>1</th>\n",
       "      <td>324</td>\n",
       "      <td>107</td>\n",
       "      <td>4</td>\n",
       "      <td>4.0</td>\n",
       "      <td>4.5</td>\n",
       "      <td>8.87</td>\n",
       "      <td>1</td>\n",
       "      <td>0.76</td>\n",
       "    </tr>\n",
       "    <tr>\n",
       "      <th>2</th>\n",
       "      <td>316</td>\n",
       "      <td>104</td>\n",
       "      <td>3</td>\n",
       "      <td>3.0</td>\n",
       "      <td>3.5</td>\n",
       "      <td>8.00</td>\n",
       "      <td>1</td>\n",
       "      <td>0.72</td>\n",
       "    </tr>\n",
       "    <tr>\n",
       "      <th>3</th>\n",
       "      <td>322</td>\n",
       "      <td>110</td>\n",
       "      <td>3</td>\n",
       "      <td>3.5</td>\n",
       "      <td>2.5</td>\n",
       "      <td>8.67</td>\n",
       "      <td>1</td>\n",
       "      <td>0.80</td>\n",
       "    </tr>\n",
       "    <tr>\n",
       "      <th>4</th>\n",
       "      <td>314</td>\n",
       "      <td>103</td>\n",
       "      <td>2</td>\n",
       "      <td>2.0</td>\n",
       "      <td>3.0</td>\n",
       "      <td>8.21</td>\n",
       "      <td>0</td>\n",
       "      <td>0.65</td>\n",
       "    </tr>\n",
       "    <tr>\n",
       "      <th>5</th>\n",
       "      <td>330</td>\n",
       "      <td>115</td>\n",
       "      <td>5</td>\n",
       "      <td>4.5</td>\n",
       "      <td>3.0</td>\n",
       "      <td>9.34</td>\n",
       "      <td>1</td>\n",
       "      <td>0.90</td>\n",
       "    </tr>\n",
       "    <tr>\n",
       "      <th>6</th>\n",
       "      <td>321</td>\n",
       "      <td>109</td>\n",
       "      <td>3</td>\n",
       "      <td>3.0</td>\n",
       "      <td>4.0</td>\n",
       "      <td>8.20</td>\n",
       "      <td>1</td>\n",
       "      <td>0.75</td>\n",
       "    </tr>\n",
       "    <tr>\n",
       "      <th>7</th>\n",
       "      <td>308</td>\n",
       "      <td>101</td>\n",
       "      <td>2</td>\n",
       "      <td>3.0</td>\n",
       "      <td>4.0</td>\n",
       "      <td>7.90</td>\n",
       "      <td>0</td>\n",
       "      <td>0.68</td>\n",
       "    </tr>\n",
       "    <tr>\n",
       "      <th>8</th>\n",
       "      <td>302</td>\n",
       "      <td>102</td>\n",
       "      <td>1</td>\n",
       "      <td>2.0</td>\n",
       "      <td>1.5</td>\n",
       "      <td>8.00</td>\n",
       "      <td>0</td>\n",
       "      <td>0.50</td>\n",
       "    </tr>\n",
       "    <tr>\n",
       "      <th>9</th>\n",
       "      <td>323</td>\n",
       "      <td>108</td>\n",
       "      <td>3</td>\n",
       "      <td>3.5</td>\n",
       "      <td>3.0</td>\n",
       "      <td>8.60</td>\n",
       "      <td>0</td>\n",
       "      <td>0.45</td>\n",
       "    </tr>\n",
       "  </tbody>\n",
       "</table>\n",
       "</div>"
      ],
      "text/plain": [
       "   GRE Score  TOEFL Score  University Rating  SOP  LOR   CGPA  Research  \\\n",
       "0        337          118                  4  4.5   4.5  9.65         1   \n",
       "1        324          107                  4  4.0   4.5  8.87         1   \n",
       "2        316          104                  3  3.0   3.5  8.00         1   \n",
       "3        322          110                  3  3.5   2.5  8.67         1   \n",
       "4        314          103                  2  2.0   3.0  8.21         0   \n",
       "5        330          115                  5  4.5   3.0  9.34         1   \n",
       "6        321          109                  3  3.0   4.0  8.20         1   \n",
       "7        308          101                  2  3.0   4.0  7.90         0   \n",
       "8        302          102                  1  2.0   1.5  8.00         0   \n",
       "9        323          108                  3  3.5   3.0  8.60         0   \n",
       "\n",
       "   Chance of Admit   \n",
       "0              0.92  \n",
       "1              0.76  \n",
       "2              0.72  \n",
       "3              0.80  \n",
       "4              0.65  \n",
       "5              0.90  \n",
       "6              0.75  \n",
       "7              0.68  \n",
       "8              0.50  \n",
       "9              0.45  "
      ]
     },
     "execution_count": 5,
     "metadata": {},
     "output_type": "execute_result"
    }
   ],
   "source": [
    "df = dataset.drop([\"Serial No.\"], axis=1)\n",
    "df.head(10)"
   ]
  },
  {
   "cell_type": "code",
   "execution_count": 6,
   "id": "13aa3887",
   "metadata": {},
   "outputs": [],
   "source": [
    "#one-hot encoding is not required as there is no categorical data\n",
    "#this is regression model as chance of being admitted is continuous between 0 and 1\n",
    "#split the into features and labels\n",
    "features = df.iloc[:, 0:7]\n",
    "# features.head(5)\n",
    "labels = df.iloc[:, -1]\n",
    "# labels.head(5)"
   ]
  },
  {
   "cell_type": "markdown",
   "id": "ada20be0",
   "metadata": {},
   "source": [
    "#### Preprocessing "
   ]
  },
  {
   "cell_type": "code",
   "execution_count": 7,
   "id": "a51c5f9d",
   "metadata": {},
   "outputs": [],
   "source": [
    "#splitting the dataset and labels into training and test sets\n",
    "features_train, features_test, labels_train, labels_test = train_test_split(features, labels, test_size=0.2, random_state=0)\n",
    "# features_train\n",
    "# features_test"
   ]
  },
  {
   "cell_type": "code",
   "execution_count": 8,
   "id": "d8ecafd5",
   "metadata": {},
   "outputs": [],
   "source": [
    "#normalise the dataset\n",
    "#selecting all the columnes\n",
    "numerical_columns = features.columns"
   ]
  },
  {
   "cell_type": "code",
   "execution_count": 9,
   "id": "748160c3",
   "metadata": {},
   "outputs": [],
   "source": [
    "#using column transformer to normalise\n",
    "#normalisation makes all the values of the features between 0 and 1\n",
    "ct = ColumnTransformer([('normalize', Normalizer(), numerical_columns)], remainder=\"passthrough\")"
   ]
  },
  {
   "cell_type": "code",
   "execution_count": 10,
   "id": "8940f1ff",
   "metadata": {},
   "outputs": [],
   "source": [
    "#this changes into a numpy array\n",
    "features_train_normalised = ct.fit_transform(features_train)\n",
    "#change into data frame to see the resule\n",
    "# features_train_df = pd.DataFrame(features_train_normalised, columns = features.columns)\n",
    "# features_train_df\n",
    "# features_train_normalised"
   ]
  },
  {
   "cell_type": "code",
   "execution_count": 11,
   "id": "3473030e",
   "metadata": {},
   "outputs": [],
   "source": [
    "features_test_normalised = ct.fit_transform(features_test)\n",
    "# features_test_normalised"
   ]
  },
  {
   "cell_type": "markdown",
   "id": "67bfac36",
   "metadata": {},
   "source": [
    "#### Building The Model"
   ]
  },
  {
   "cell_type": "code",
   "execution_count": 12,
   "id": "52efc174",
   "metadata": {},
   "outputs": [
    {
     "name": "stdout",
     "output_type": "stream",
     "text": [
      "Metal device set to: Apple M1\n"
     ]
    },
    {
     "name": "stderr",
     "output_type": "stream",
     "text": [
      "2022-08-12 12:13:43.889760: I tensorflow/core/common_runtime/pluggable_device/pluggable_device_factory.cc:305] Could not identify NUMA node of platform GPU ID 0, defaulting to 0. Your kernel may not have been built with NUMA support.\n",
      "2022-08-12 12:13:43.890645: I tensorflow/core/common_runtime/pluggable_device/pluggable_device_factory.cc:271] Created TensorFlow device (/job:localhost/replica:0/task:0/device:GPU:0 with 0 MB memory) -> physical PluggableDevice (device: 0, name: METAL, pci bus id: <undefined>)\n"
     ]
    }
   ],
   "source": [
    "my_model = Sequential()"
   ]
  },
  {
   "cell_type": "code",
   "execution_count": 13,
   "id": "5aae54e6",
   "metadata": {},
   "outputs": [],
   "source": [
    "#adding input layer\n",
    "input = layers.InputLayer(input_shape=(features.shape[1]),)\n",
    "my_model.add(input)"
   ]
  },
  {
   "cell_type": "code",
   "execution_count": 14,
   "id": "c8a7d120",
   "metadata": {},
   "outputs": [],
   "source": [
    "#hidden layer\n",
    "my_model.add(layers.Dense(128, activation=\"relu\"))\n",
    "\n",
    "#adding more hidden layers and dropout for regularisation\n",
    "my_model.add(layers.Dropout(0.1))\n",
    "my_model.add(layers.Dense(64, activation='relu'))\n",
    "my_model.add(layers.Dropout(0.2))\n",
    "my_model.add(layers.Dense(24, activation='relu'))\n",
    "my_model.add(layers.Dropout(0.3))\n",
    "my_model.add(layers.Dense(8, activation='relu'))\n",
    "my_model.add(layers.Dropout(0.5))"
   ]
  },
  {
   "cell_type": "code",
   "execution_count": 15,
   "id": "cb086a65",
   "metadata": {},
   "outputs": [],
   "source": [
    "#output layer\n",
    "my_model.add(layers.Dense(1))\n",
    "# my_model.summary()"
   ]
  },
  {
   "cell_type": "markdown",
   "id": "621d15e3",
   "metadata": {},
   "source": [
    "#### Optimizer and Compile"
   ]
  },
  {
   "cell_type": "code",
   "execution_count": 16,
   "id": "554943c2",
   "metadata": {},
   "outputs": [],
   "source": [
    "opt = keras.optimizers.Adam(learning_rate = 0.01)"
   ]
  },
  {
   "cell_type": "code",
   "execution_count": 17,
   "id": "11183f04",
   "metadata": {},
   "outputs": [],
   "source": [
    "my_model.compile(loss=\"mse\", metrics=[\"mae\"], optimizer=opt)"
   ]
  },
  {
   "cell_type": "markdown",
   "id": "42e2bd55",
   "metadata": {},
   "source": [
    "#### Fit and Evaluate"
   ]
  },
  {
   "cell_type": "code",
   "execution_count": 55,
   "id": "56756993",
   "metadata": {},
   "outputs": [
    {
     "name": "stdout",
     "output_type": "stream",
     "text": [
      "Epoch 1/100\n",
      "38/38 [==============================] - 0s 7ms/step - loss: 0.0090 - mae: 0.0734 - val_loss: 0.0132 - val_mae: 0.0971\n",
      "Epoch 2/100\n",
      "38/38 [==============================] - 0s 6ms/step - loss: 0.0087 - mae: 0.0735 - val_loss: 0.0130 - val_mae: 0.0958\n",
      "Epoch 3/100\n",
      "38/38 [==============================] - 0s 6ms/step - loss: 0.0079 - mae: 0.0700 - val_loss: 0.0155 - val_mae: 0.1072\n",
      "Epoch 4/100\n",
      "38/38 [==============================] - 0s 6ms/step - loss: 0.0084 - mae: 0.0719 - val_loss: 0.0127 - val_mae: 0.0939\n",
      "Epoch 5/100\n",
      "38/38 [==============================] - 0s 6ms/step - loss: 0.0084 - mae: 0.0721 - val_loss: 0.0179 - val_mae: 0.1172\n",
      "Epoch 6/100\n",
      "38/38 [==============================] - 0s 6ms/step - loss: 0.0092 - mae: 0.0760 - val_loss: 0.0155 - val_mae: 0.1073\n",
      "Epoch 7/100\n",
      "38/38 [==============================] - 0s 6ms/step - loss: 0.0086 - mae: 0.0732 - val_loss: 0.0113 - val_mae: 0.0872\n",
      "Epoch 8/100\n",
      "38/38 [==============================] - 0s 6ms/step - loss: 0.0080 - mae: 0.0701 - val_loss: 0.0175 - val_mae: 0.1161\n",
      "Epoch 9/100\n",
      "38/38 [==============================] - 0s 6ms/step - loss: 0.0101 - mae: 0.0808 - val_loss: 0.0111 - val_mae: 0.0861\n",
      "Epoch 10/100\n",
      "38/38 [==============================] - 0s 7ms/step - loss: 0.0088 - mae: 0.0739 - val_loss: 0.0193 - val_mae: 0.1223\n",
      "Epoch 11/100\n",
      "38/38 [==============================] - 0s 7ms/step - loss: 0.0080 - mae: 0.0689 - val_loss: 0.0100 - val_mae: 0.0787\n",
      "Epoch 12/100\n",
      "38/38 [==============================] - 0s 6ms/step - loss: 0.0083 - mae: 0.0714 - val_loss: 0.0095 - val_mae: 0.0754\n",
      "Epoch 13/100\n",
      "38/38 [==============================] - 0s 7ms/step - loss: 0.0083 - mae: 0.0730 - val_loss: 0.0132 - val_mae: 0.0977\n",
      "Epoch 14/100\n",
      "38/38 [==============================] - 0s 6ms/step - loss: 0.0083 - mae: 0.0703 - val_loss: 0.0100 - val_mae: 0.0790\n",
      "Epoch 15/100\n",
      "38/38 [==============================] - 0s 6ms/step - loss: 0.0085 - mae: 0.0732 - val_loss: 0.0119 - val_mae: 0.0902\n",
      "Epoch 16/100\n",
      "38/38 [==============================] - 0s 6ms/step - loss: 0.0094 - mae: 0.0747 - val_loss: 0.0140 - val_mae: 0.0999\n",
      "Epoch 17/100\n",
      "38/38 [==============================] - 0s 6ms/step - loss: 0.0084 - mae: 0.0720 - val_loss: 0.0111 - val_mae: 0.0861\n",
      "Epoch 18/100\n",
      "38/38 [==============================] - 0s 7ms/step - loss: 0.0089 - mae: 0.0748 - val_loss: 0.0165 - val_mae: 0.1111\n",
      "Epoch 19/100\n",
      "38/38 [==============================] - 0s 6ms/step - loss: 0.0090 - mae: 0.0740 - val_loss: 0.0136 - val_mae: 0.0991\n",
      "Epoch 20/100\n",
      "38/38 [==============================] - 0s 7ms/step - loss: 0.0080 - mae: 0.0688 - val_loss: 0.0163 - val_mae: 0.1109\n",
      "Epoch 21/100\n",
      "38/38 [==============================] - 0s 7ms/step - loss: 0.0094 - mae: 0.0760 - val_loss: 0.0168 - val_mae: 0.1122\n",
      "Epoch 22/100\n",
      "38/38 [==============================] - 0s 7ms/step - loss: 0.0087 - mae: 0.0707 - val_loss: 0.0119 - val_mae: 0.0904\n",
      "Epoch 23/100\n",
      "38/38 [==============================] - 0s 7ms/step - loss: 0.0081 - mae: 0.0694 - val_loss: 0.0143 - val_mae: 0.1025\n",
      "Epoch 24/100\n",
      "38/38 [==============================] - 0s 7ms/step - loss: 0.0085 - mae: 0.0741 - val_loss: 0.0162 - val_mae: 0.1104\n",
      "Epoch 25/100\n",
      "38/38 [==============================] - 0s 7ms/step - loss: 0.0087 - mae: 0.0728 - val_loss: 0.0105 - val_mae: 0.0821\n",
      "Epoch 26/100\n",
      "38/38 [==============================] - 0s 8ms/step - loss: 0.0087 - mae: 0.0726 - val_loss: 0.0107 - val_mae: 0.0833\n",
      "Epoch 27/100\n",
      "38/38 [==============================] - 0s 9ms/step - loss: 0.0080 - mae: 0.0706 - val_loss: 0.0096 - val_mae: 0.0755\n",
      "Epoch 28/100\n",
      "38/38 [==============================] - 0s 7ms/step - loss: 0.0093 - mae: 0.0733 - val_loss: 0.0142 - val_mae: 0.1017\n",
      "Epoch 29/100\n",
      "38/38 [==============================] - 0s 8ms/step - loss: 0.0094 - mae: 0.0760 - val_loss: 0.0113 - val_mae: 0.0874\n",
      "Epoch 30/100\n",
      "38/38 [==============================] - 0s 8ms/step - loss: 0.0085 - mae: 0.0707 - val_loss: 0.0196 - val_mae: 0.1241\n",
      "Epoch 31/100\n",
      "38/38 [==============================] - 0s 9ms/step - loss: 0.0086 - mae: 0.0731 - val_loss: 0.0150 - val_mae: 0.1059\n",
      "Epoch 32/100\n",
      "38/38 [==============================] - 0s 8ms/step - loss: 0.0087 - mae: 0.0736 - val_loss: 0.0151 - val_mae: 0.1052\n",
      "Epoch 32: early stopping\n"
     ]
    }
   ],
   "source": [
    "# apply early stopping for efficiency\n",
    "es = EarlyStopping(monitor='val_loss', mode='min', verbose=1, patience=20)\n",
    "\n",
    "# fit the model with 100 epochs and a batch size of 8\n",
    "# validation split at 0.25\n",
    "history = my_model.fit(features_train_normalised, labels_train, epochs=100, batch_size=8, verbose=1,  validation_split=0.25, callbacks=[es])"
   ]
  },
  {
   "cell_type": "code",
   "execution_count": 57,
   "id": "47229ab0",
   "metadata": {},
   "outputs": [
    {
     "data": {
      "text/plain": [
       "(0.011352012865245342, 0.0942559689283371)"
      ]
     },
     "execution_count": 57,
     "metadata": {},
     "output_type": "execute_result"
    }
   ],
   "source": [
    "final_mse, final_mae = my_model.evaluate(features_test_normalised, labels_test, verbose=0)\n",
    "final_mse, final_mae\n",
    "#final_mae is around 8-10% meaning that it has deviation about 8-10%"
   ]
  },
  {
   "cell_type": "markdown",
   "id": "2c47e0e2",
   "metadata": {},
   "source": [
    "#### Graph and analysis"
   ]
  },
  {
   "cell_type": "code",
   "execution_count": 61,
   "id": "43859711",
   "metadata": {},
   "outputs": [
    {
     "data": {
      "text/plain": [
       "Text(0.5, 0, 'epochs')"
      ]
     },
     "execution_count": 61,
     "metadata": {},
     "output_type": "execute_result"
    },
    {
     "data": {
      "image/png": "[encoded data removed]",
      "text/plain": [
       "<Figure size 432x288 with 2 Axes>"
      ]
     },
     "metadata": {
      "needs_background": "light"
     },
     "output_type": "display_data"
    }
   ],
   "source": [
    "fig, (ax1, ax2) = plt.subplots(2)\n",
    "ax1.plot(history.history[\"mae\"], label=\"training\")\n",
    "ax1.plot(history.history[\"val_mae\"], label=\"validation\")\n",
    "ax1.set_title(\"model mae\")\n",
    "ax1.set_ylabel(\"loss\")\n",
    "ax1.legend([\"train\", \"validation\"], loc=\"upper right\")\n",
    "\n",
    "\n",
    "ax2.plot(history.history[\"loss\"],label=\"train\")\n",
    "ax2.plot(history.history[\"val_loss\"], label=\"validation\")\n",
    "ax2.set_title(\"model loss\")\n",
    "ax2.set_ylabel(\"loss\")\n",
    "ax2.set_xlabel(\"epochs\")\n",
    "\n",
    "#the model is overfitting\n",
    "#it performs very well in the training set but doesn't do well in validation set\n"
   ]
  },
  {
   "cell_type": "code",
   "execution_count": 73,
   "id": "e83119d6",
   "metadata": {},
   "outputs": [
    {
     "name": "stdout",
     "output_type": "stream",
     "text": [
      "4/4 [==============================] - 0s 7ms/step\n"
     ]
    }
   ],
   "source": [
    "y_pred = my_model.predict(features_test_normalised)\n",
    "y_true = labels_test"
   ]
  },
  {
   "cell_type": "code",
   "execution_count": 74,
   "id": "50932819",
   "metadata": {},
   "outputs": [
    {
     "data": {
      "text/plain": [
       "0.35000425840998217"
      ]
     },
     "execution_count": 74,
     "metadata": {},
     "output_type": "execute_result"
    }
   ],
   "source": [
    "#\n",
    "r2_score(y_true, y_pred)"
   ]
  },
  {
   "cell_type": "code",
   "execution_count": null,
   "id": "9fa32f9f",
   "metadata": {},
   "outputs": [],
   "source": []
  }
 ],
 "metadata": {
  "kernelspec": {
   "display_name": "Python 3 (ipykernel)",
   "language": "python",
   "name": "python3"
  },
  "language_info": {
   "codemirror_mode": {
    "name": "ipython",
    "version": 3
   },
   "file_extension": ".py",
   "mimetype": "text/x-python",
   "name": "python",
   "nbconvert_exporter": "python",
   "pygments_lexer": "ipython3",
   "version": "3.8.13"
  }
 },
 "nbformat": 4,
 "nbformat_minor": 5
}
